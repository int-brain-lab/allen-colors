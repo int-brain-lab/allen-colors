{
 "cells": [
  {
   "cell_type": "markdown",
   "id": "350739dd-16fb-418d-9564-6fb22879c3d6",
   "metadata": {},
   "source": [
    "# Brain region colors"
   ]
  },
  {
   "cell_type": "markdown",
   "id": "57153801-e0e9-4b90-befd-112e8dc05de8",
   "metadata": {
    "tags": []
   },
   "source": [
    "## Imports"
   ]
  },
  {
   "cell_type": "code",
   "execution_count": null,
   "id": "43ece130-34fc-4470-817b-31a7a6e6b693",
   "metadata": {},
   "outputs": [],
   "source": [
    "import numpy as np"
   ]
  },
  {
   "cell_type": "code",
   "execution_count": null,
   "id": "64c3de69-9b0c-4ed0-bd07-06c4eeacc8e7",
   "metadata": {},
   "outputs": [],
   "source": [
    "import colorio\n",
    "from colorio.cs import ColorCoordinates, HSV, OKLAB, SRGB1, XYZ100"
   ]
  },
  {
   "cell_type": "code",
   "execution_count": null,
   "id": "a84bd94b-a623-4fd9-ae24-f840db8bd446",
   "metadata": {},
   "outputs": [],
   "source": [
    "from ibllib.atlas.regions import BrainRegions, FILE_BERYL"
   ]
  },
  {
   "cell_type": "code",
   "execution_count": null,
   "id": "a0c21d19-1f32-4a5c-bb54-5621130a846a",
   "metadata": {},
   "outputs": [],
   "source": [
    "from IPython.core.display import display, HTML"
   ]
  },
  {
   "cell_type": "code",
   "execution_count": null,
   "id": "ea9e11da-30a6-42c9-8bf1-02a3322ca85b",
   "metadata": {},
   "outputs": [],
   "source": [
    "from ipywidgets import interact"
   ]
  },
  {
   "cell_type": "code",
   "execution_count": null,
   "id": "d86366e2-28d1-436f-9ba5-fd6a2c1cdb1d",
   "metadata": {},
   "outputs": [],
   "source": [
    "import matplotlib.pyplot as plt\n",
    "from matplotlib import colors as mcolors\n",
    "\n",
    "%matplotlib inline\n",
    "\n",
    "plt.rcParams[\"figure.dpi\"] = 100\n",
    "plt.rcParams[\"axes.grid\"] = False\n",
    "#sns.set_theme(style=\"white\")"
   ]
  },
  {
   "cell_type": "markdown",
   "id": "6ca3f81e-6539-445d-8b39-5b9c3d485d53",
   "metadata": {
    "jp-MarkdownHeadingCollapsed": true,
    "tags": []
   },
   "source": [
    "## BrainRegions"
   ]
  },
  {
   "cell_type": "code",
   "execution_count": null,
   "id": "6bd12a9a-bb96-43ab-9e6c-8338ff89250c",
   "metadata": {},
   "outputs": [],
   "source": [
    "br = BrainRegions()"
   ]
  },
  {
   "cell_type": "code",
   "execution_count": null,
   "id": "9ea30da2-6d85-4d4f-bace-0e66e2e8332f",
   "metadata": {},
   "outputs": [],
   "source": [
    "beryl = np.sort(np.load(FILE_BERYL))"
   ]
  },
  {
   "cell_type": "code",
   "execution_count": null,
   "id": "c9036fca-be9a-4809-93b6-039fb5c2bdee",
   "metadata": {},
   "outputs": [],
   "source": [
    "kept = br.ancestors(beryl)['id']"
   ]
  },
  {
   "cell_type": "code",
   "execution_count": null,
   "id": "14764a9d-2a5e-4a28-a3a0-f3b21ddf1f86",
   "metadata": {},
   "outputs": [],
   "source": [
    "root = 997  # 0\n",
    "basic = 8  # 1\n",
    "cerebrum = 567  # 2\n",
    "cortex = 688  # 3\n",
    "isocortex = 315  # 4\n",
    "nuclei = 623  # 3\n",
    "brainstem = 343  # 2\n",
    "interbrain = 1129  # 3\n",
    "midbrain = 313  # 3\n",
    "hindbrain = 1065  # 3\n",
    "cerebellum = 512  # 2\n",
    "thalamus = 549  # 4\n",
    "hypothalamus = 1097  # 4"
   ]
  },
  {
   "cell_type": "markdown",
   "id": "40b5db37-1b9a-4bc4-972f-6466bb2dd3c3",
   "metadata": {
    "jp-MarkdownHeadingCollapsed": true,
    "tags": []
   },
   "source": [
    "## Brain regions attributes"
   ]
  },
  {
   "cell_type": "code",
   "execution_count": null,
   "id": "4dcea591-6ae7-4377-b7dd-e3cabfb5b8b7",
   "metadata": {},
   "outputs": [],
   "source": [
    "br.acronym"
   ]
  },
  {
   "cell_type": "code",
   "execution_count": null,
   "id": "0135b3c5-2366-4628-a263-2a30b11b1169",
   "metadata": {},
   "outputs": [],
   "source": [
    "br.id"
   ]
  },
  {
   "cell_type": "code",
   "execution_count": null,
   "id": "06f5ca64-73d1-4152-abf9-77e1a8277825",
   "metadata": {},
   "outputs": [],
   "source": [
    "br.level"
   ]
  },
  {
   "cell_type": "code",
   "execution_count": null,
   "id": "e01304a6-bff4-4dcb-89f7-62cd824f1f31",
   "metadata": {},
   "outputs": [],
   "source": [
    "br.mappings"
   ]
  },
  {
   "cell_type": "code",
   "execution_count": null,
   "id": "70179e02-e4ac-4706-b951-0e79cb1390ff",
   "metadata": {},
   "outputs": [],
   "source": [
    "br.name"
   ]
  },
  {
   "cell_type": "code",
   "execution_count": null,
   "id": "379f9a0e-449a-404f-b3f6-d252d79ffe73",
   "metadata": {},
   "outputs": [],
   "source": [
    "br.parent"
   ]
  },
  {
   "cell_type": "code",
   "execution_count": null,
   "id": "4a514c01-5eb2-469e-aaf3-17172a69868c",
   "metadata": {},
   "outputs": [],
   "source": [
    "br.rgb"
   ]
  },
  {
   "cell_type": "markdown",
   "id": "8dd646ec-419e-4206-857d-e9a2803ff8b0",
   "metadata": {
    "tags": []
   },
   "source": [
    "## Color analysis of Beryl regions"
   ]
  },
  {
   "cell_type": "markdown",
   "id": "40f5625d-7ae6-48c6-a4e9-24fa9b794210",
   "metadata": {
    "jp-MarkdownHeadingCollapsed": true,
    "tags": []
   },
   "source": [
    "### Utility functions"
   ]
  },
  {
   "cell_type": "code",
   "execution_count": null,
   "id": "67444b48-f1ec-4910-b084-e7f8a5df2563",
   "metadata": {},
   "outputs": [],
   "source": [
    "def r2h(rgb_float):\n",
    "    # assume [0, 1]\n",
    "    return mcolors.rgb_to_hsv(rgb_float)\n",
    "\n",
    "def h2r(hsv_float):\n",
    "    # assume [0, 1]\n",
    "    return mcolors.hsv_to_rgb(hsv_float)"
   ]
  },
  {
   "cell_type": "code",
   "execution_count": null,
   "id": "9664fee2-cca1-46fd-ad54-acb9835b6e7f",
   "metadata": {},
   "outputs": [],
   "source": [
    "def children(ids):\n",
    "    return br.id[np.isin(br.parent, np.array(ids))]"
   ]
  },
  {
   "cell_type": "code",
   "execution_count": null,
   "id": "16198691-4373-42eb-8d4a-bcd73377b6ad",
   "metadata": {},
   "outputs": [],
   "source": [
    "def children_colors(rid, restrict_to_beryl=None):\n",
    "    cid = children(rid)\n",
    "    #print(br.name[np.isin(br.id, did)])\n",
    "    if restrict_to_beryl:\n",
    "        ids = cid[np.nonzero(np.isin(cid, beryl))[0]]\n",
    "    else:\n",
    "        ids = cid\n",
    "    return ids, br.rgb[np.isin(br.id, ids)] / 255.0"
   ]
  },
  {
   "cell_type": "markdown",
   "id": "346d5902-72b4-4c2c-8bb2-df0397c89747",
   "metadata": {
    "tags": []
   },
   "source": [
    "### Plotting functions"
   ]
  },
  {
   "cell_type": "code",
   "execution_count": null,
   "id": "7ea96e5a-fffc-4e59-9c4b-42595c28aa84",
   "metadata": {
    "tags": []
   },
   "outputs": [],
   "source": [
    "def plot_hsv(ids, hsv_float):\n",
    "    n = len(hsv_float)\n",
    "    x = np.arange(n)\n",
    "    s = 'HSV'\n",
    "    for i, hsv_triplet in enumerate(hsv_float):\n",
    "        for u in range(3):\n",
    "            plt.text(\n",
    "                i, hsv_triplet[u], s[u], size=20,\n",
    "                color=tuple(h2r(hsv_triplet)));\n",
    "    plt.xlim(-.5, n);\n",
    "    plt.ylim(0, 1.2);\n",
    "    plt.xticks(x, labels=br.acronym[np.isin(br.id, ids)]);"
   ]
  },
  {
   "cell_type": "code",
   "execution_count": null,
   "id": "88550998-5348-497b-b0c3-19761d74c176",
   "metadata": {
    "tags": []
   },
   "outputs": [],
   "source": [
    "def color_rectangle(level, rgb, is_custom=False, color='#333'):\n",
    "    rgb = np.array(rgb)\n",
    "    assert np.all(rgb <= 1)\n",
    "    rgb = tuple(map(int, (rgb * 255).astype(np.uint8)))\n",
    "    return (\n",
    "        f'<div style=\"'\n",
    "            f'width: 100px; height: 30px; '\n",
    "            f'background-color: rgb{rgb}; '\n",
    "            f'margin: 5px 10px 0 {level * 30}px; '\n",
    "            f'padding: 2px 0 0 5px; ' \n",
    "            f'font-size: .75em; '\n",
    "            f'border: 1px solid #aaa; '\n",
    "            f'color: {color}; '\n",
    "        f'\">{\"#%02x%02x%02x\" % rgb}</div>\\n'\n",
    "    )"
   ]
  },
  {
   "cell_type": "markdown",
   "id": "4b63275c-e1c8-4213-b3fa-4a3743b06dae",
   "metadata": {
    "jp-MarkdownHeadingCollapsed": true,
    "tags": []
   },
   "source": [
    "### Analysis"
   ]
  },
  {
   "cell_type": "code",
   "execution_count": null,
   "id": "e9a57300-5621-4f05-93f5-1b241517fd0d",
   "metadata": {
    "tags": []
   },
   "outputs": [],
   "source": [
    "def plot_children(ids, **kwargs):\n",
    "    cids, rgb = children_colors(ids, restrict_to_beryl=kwargs.get('restrict_to_beryl', None))\n",
    "    hsv = r2h(rgb)\n",
    "    plot_hsv(cids, hsv)\n",
    "    show_children_colors(ids, **kwargs)"
   ]
  },
  {
   "cell_type": "raw",
   "id": "faa2e105-2f63-4bac-8b04-cf7d2a1f77a1",
   "metadata": {
    "tags": []
   },
   "source": [
    "plot_children(isocortex, recursive=False, restrict_to_beryl=True)"
   ]
  },
  {
   "cell_type": "markdown",
   "id": "d4250736-2139-4fc8-8c19-3a979360f638",
   "metadata": {},
   "source": [
    "## Beryl regions with colors"
   ]
  },
  {
   "cell_type": "markdown",
   "id": "2d87b78a-7e0d-4910-9d2a-53fde356bcee",
   "metadata": {},
   "source": [
    "Display all Beryl regions with their colors:"
   ]
  },
  {
   "cell_type": "markdown",
   "id": "d5a86f7b-1d70-4665-b7e7-dfee5aee5ca9",
   "metadata": {
    "jp-MarkdownHeadingCollapsed": true,
    "tags": []
   },
   "source": [
    "## Thalamus"
   ]
  },
  {
   "cell_type": "markdown",
   "id": "3558c9b8-9e88-4f28-9136-fd3fbc263975",
   "metadata": {},
   "source": [
    "- LVL4 Thalamus (549, TH) remains at #ff7080\n",
    "- LVL5 Thalamus sensory-motor cortex related (864, DORsm) remains at #ff8084\n",
    "    - **but all of its children need a different color**\n",
    "    - **LVL6 Ventral group of the dorsal thalamus (637, VENT) #ff8084** needs a different color, and its children too\n",
    "- LVL5 Thalamus polymodal association cortex related (856, DORpm) remains at #ff909f\n",
    "    - **but all of its children need a different color**\n",
    "    - **and each LVL7 great-children too**"
   ]
  },
  {
   "cell_type": "markdown",
   "id": "323ba0b1-590e-4b8b-95ff-494e74f55bdc",
   "metadata": {
    "tags": []
   },
   "source": [
    "## Color space conversion"
   ]
  },
  {
   "cell_type": "code",
   "execution_count": null,
   "id": "4b2451a2-b2a4-497e-9eff-e6a230c41f15",
   "metadata": {},
   "outputs": [],
   "source": [
    "def oklab_to_xyz(L, a, b):\n",
    "    M1 = np.array([\n",
    "        +0.8189330101,\n",
    "        +0.0329845436,\n",
    "        +0.0482003018,\n",
    "        +0.3618667424,\n",
    "        +0.9293118715,\n",
    "        +0.2643662691,\n",
    "        -0.1288597137,\n",
    "        +0.0361456387,\n",
    "        +0.6338517070,\n",
    "    ]).reshape((3, 3)).T\n",
    "\n",
    "    M2 = np.array([\n",
    "        +0.2104542553,\n",
    "        +1.9779984951,\n",
    "        +0.0259040371,\n",
    "        +0.7936177850,\n",
    "        -2.4285922050,\n",
    "        +0.7827717662,\n",
    "        -0.0040720468,\n",
    "        +0.4505937099,\n",
    "        -0.8086757660,\n",
    "    ]).reshape((3, 3)).T\n",
    "\n",
    "    Lab = np.c_[L, a, b].T\n",
    "    lmsp = np.linalg.inv(M2) @ Lab\n",
    "    lms = lmsp ** 3\n",
    "    XYZ = np.linalg.inv(M1) @ lms\n",
    "    return XYZ"
   ]
  },
  {
   "cell_type": "code",
   "execution_count": null,
   "id": "3152999b-508f-4023-83ff-158c0c2273bc",
   "metadata": {},
   "outputs": [],
   "source": [
    "def xyz_to_rgb(xyz):\n",
    "    M = np.array([\n",
    "      [3.2404542, -1.5371385, -0.4985314],\n",
    "      [-0.9692660, 1.8760108, 0.0415560],\n",
    "      [0.0556434, -0.2040259, 1.0572252],\n",
    "    ])\n",
    "    return M @ xyz"
   ]
  },
  {
   "cell_type": "code",
   "execution_count": null,
   "id": "4e925d66-a3c1-4f19-9c50-b956bea2e774",
   "metadata": {},
   "outputs": [],
   "source": [
    "def oklab_to_rgb(L, a, b):\n",
    "    xyz = oklab_to_xyz(L, a, b)\n",
    "    return xyz_to_rgb(xyz)"
   ]
  },
  {
   "cell_type": "code",
   "execution_count": null,
   "id": "37d1cc74-46e0-4215-a479-d540784a57c8",
   "metadata": {},
   "outputs": [],
   "source": [
    "def make_gradient(L0, C0, n):\n",
    "    L = L0 * np.ones(n)\n",
    "    C = C0 * np.ones(n)\n",
    "    h = np.linspace(-np.pi, np.pi, n)\n",
    "    a = C * np.cos(h)\n",
    "    b = C * np.sin(h)\n",
    "    return oklab_to_rgb(L, a, b).T"
   ]
  },
  {
   "cell_type": "code",
   "execution_count": null,
   "id": "910a7554-c32e-43bf-a6d7-3e757a905114",
   "metadata": {},
   "outputs": [],
   "source": [
    "@interact(L0=(0.0, 1.0, 0.01), C0=(0.0, 1.0, 0.01))\n",
    "def f(L0=0.8, C0=0.1):\n",
    "    s = '<div style=\"display: flex;\">'\n",
    "    for rgb in make_gradient(L0, C0, 256):\n",
    "        s += f'<div style=\"display: flexbox; width: 5px; height: 100px; background-color: rgb{tuple((rgb * 255).astype(np.int32))};\"></div>\\n'\n",
    "    s += '</div>'\n",
    "    display(HTML(s))"
   ]
  },
  {
   "cell_type": "markdown",
   "id": "38c70b8e-4f83-4e41-b320-a811a7a8afb0",
   "metadata": {
    "tags": []
   },
   "source": [
    "## Generating color variations"
   ]
  },
  {
   "cell_type": "markdown",
   "id": "dc9d1826-acc1-482e-9752-ea525064ba1e",
   "metadata": {
    "jp-MarkdownHeadingCollapsed": true,
    "tags": []
   },
   "source": [
    "### Functions"
   ]
  },
  {
   "cell_type": "code",
   "execution_count": null,
   "id": "ac24cac6-4655-4a09-8957-f2256d9d7f85",
   "metadata": {},
   "outputs": [],
   "source": [
    "def variants(rgb, seed=0, hstd=0, sstd=0, vstd=0):\n",
    "    hsv = r2h(rgb)\n",
    "    n = len(hsv)\n",
    "    shape = hsv.shape\n",
    "    #np.random.seed(seed)\n",
    "    hsv[:, 0] += np.random.normal(size=n, loc=0, scale=hstd)\n",
    "    hsv[:, 0] %= 1\n",
    "    hsv[:, 1] += np.random.normal(size=n, loc=0, scale=sstd)\n",
    "    hsv[:, 2] += np.random.normal(size=n, loc=0, scale=vstd)\n",
    "    hsv = np.clip(hsv, 0, 1)\n",
    "    return h2r(hsv)"
   ]
  },
  {
   "cell_type": "code",
   "execution_count": null,
   "id": "b09d2b5b-e751-4b21-b0b4-1fed01425ea5",
   "metadata": {},
   "outputs": [],
   "source": [
    "def variant_children_colors(id, color, hstd=None, sstd=None, vstd=None):\n",
    "    ids, colors = children_colors(id, restrict_to_beryl=False)\n",
    "    if len(ids) == 0:\n",
    "        return {}\n",
    "    # If all children colors are identical, we modify them\n",
    "    if np.all(np.std(colors, axis=0) < 1e-10):\n",
    "        colors = variants(colors, hstd=hstd, sstd=sstd, vstd=vstd)\n",
    "    custom = {id: tuple(c.ravel()) for id, c in zip(ids, colors)}\n",
    "    return custom"
   ]
  },
  {
   "cell_type": "code",
   "execution_count": null,
   "id": "f1b55b79-fc25-48f6-b57c-5345d49c57ee",
   "metadata": {},
   "outputs": [],
   "source": [
    "def variant_descendent_colors(id, color, hstd=None, sstd=None, vstd=None, decrease_coef=None):\n",
    "    custom = variant_children_colors(id, color, hstd=hstd, sstd=sstd, vstd=vstd)\n",
    "    for child, child_color in custom.copy().items():\n",
    "        custom.update(variant_descendent_colors(child, child_color, hstd=hstd / decrease_coef, sstd=sstd / decrease_coef, vstd=vstd / decrease_coef, decrease_coef=decrease_coef))\n",
    "    return custom"
   ]
  },
  {
   "cell_type": "markdown",
   "id": "cdac7bca-fce4-4cef-ba1c-78ded5ade521",
   "metadata": {},
   "source": [
    "### Testing"
   ]
  },
  {
   "cell_type": "code",
   "execution_count": null,
   "id": "e37f9f88-0829-4f8a-8482-73b72e667476",
   "metadata": {
    "jupyter": {
     "source_hidden": true
    },
    "tags": []
   },
   "outputs": [],
   "source": [
    "js = '''\n",
    "function expand() {\n",
    "    $(\"details\").attr(\"open\", true);\n",
    "}\n",
    "\n",
    "function collapse(level) {\n",
    "    expand();\n",
    "    $(\".level-\" + level).attr(\"open\", false);\n",
    "}\n",
    "'''"
   ]
  },
  {
   "cell_type": "code",
   "execution_count": null,
   "id": "48030f86-e9e8-4e78-91b7-aa299cb3d2c9",
   "metadata": {
    "jupyter": {
     "source_hidden": true
    },
    "tags": []
   },
   "outputs": [],
   "source": [
    "css = '''\n",
    ".region-label:hover {color: #000 !important;}\n",
    "'''"
   ]
  },
  {
   "cell_type": "code",
   "execution_count": null,
   "id": "44970db2-cc27-4a6b-801a-36801c0101c3",
   "metadata": {
    "tags": []
   },
   "outputs": [],
   "source": [
    "area = root\n",
    "hstd = .025\n",
    "sstd = .03\n",
    "vstd = .02\n",
    "decrease_coef = 1.01\n",
    "\n",
    "#np.random.seed(10)\n",
    "idx = np.nonzero(br.id == 864)[0]\n",
    "color = br.rgb[idx] / 255.0\n",
    "colorv = variants(np.array(color), hstd=hstd, sstd=sstd, vstd=vstd)"
   ]
  },
  {
   "cell_type": "code",
   "execution_count": null,
   "id": "1c3ed351-6ceb-4545-9c97-59f2b38ed6ce",
   "metadata": {},
   "outputs": [],
   "source": [
    "custom = variant_descendent_colors(area, colorv, hstd=hstd, sstd=sstd, vstd=vstd, decrease_coef=decrease_coef)"
   ]
  },
  {
   "cell_type": "code",
   "execution_count": null,
   "id": "4038d02d-4eb4-496e-a485-ce676cbcb4d7",
   "metadata": {},
   "outputs": [],
   "source": [
    "ids = br.id[np.isin(br.id, beryl)]"
   ]
  },
  {
   "cell_type": "code",
   "execution_count": null,
   "id": "3e118623-b4a7-4632-a7bc-95d5694beb37",
   "metadata": {},
   "outputs": [],
   "source": [
    "L0 = .85\n",
    "C0 = .1\n",
    "n = len(beryl)\n",
    "grad = make_gradient(L0, C0, n)\n",
    "grad = np.clip(grad, 0, 1)\n",
    "custom = {id: grad[(-50 + i) % n] for i, id in enumerate(ids)}\n",
    "\n",
    "def show_children_colors(ids, recursive=False, restrict_to_beryl=False, max_level=10, custom=None):\n",
    "    if recursive:\n",
    "        cids = br.descendants(ids)['id']\n",
    "    else:\n",
    "        cids = children(ids)\n",
    "    idx = np.isin(br.id, cids) & (br.id >= 0) & np.isin(br.id, kept) & (br.level <= max_level)\n",
    "    idx |= np.isin(br.id, ids)\n",
    "\n",
    "    ids = br.id[idx]\n",
    "\n",
    "    names = br.name[idx]\n",
    "    acronyms = br.acronym[idx]\n",
    "    colors = br.rgb[idx] / 255.0\n",
    "    levels = br.level[idx].astype(np.int64)\n",
    "    inberyls = np.isin(ids, beryl)\n",
    "    l0 = levels.min()\n",
    "    last_level = -1\n",
    "    is_custom = False\n",
    "\n",
    "    assert len(ids) == len(names) == len(acronyms) == len(colors) == len(levels) == len(inberyls)\n",
    "    s = ''\n",
    "    for id, name, acronym, color, level, inberyl in zip(ids, names, acronyms, colors, levels, inberyls):\n",
    "        if name == 'fiber tracts':\n",
    "            break\n",
    "        if restrict_to_beryl and not recursive and level == l0 + 1 and not inberyl:\n",
    "            continue\n",
    "        rgb = tuple(color)\n",
    "        \n",
    "        if level == last_level:\n",
    "            s += '</details>\\n'\n",
    "        elif level < last_level:\n",
    "            s += ('</details>' * (last_level - level + 1))\n",
    "        s += (f'<details open=\"true\" id=\"area-{id}\" class=\"level-{level}\">\\n')\n",
    "        \n",
    "        s += (\n",
    "            f'<summary style=\"list-style: none; cursor: pointer;\">\\n'\n",
    "            \n",
    "            f'<div style=\"display: flex;\">\\n')\n",
    "        \n",
    "        # Color\n",
    "        s += color_rectangle(level - l0, rgb)\n",
    "        \n",
    "        # Optional custom color\n",
    "        if custom:\n",
    "            custom_color = custom.get(id, rgb)\n",
    "            is_custom = np.abs(np.array(custom_color) - np.array(rgb)).max() > 1e-10\n",
    "            s += color_rectangle(0, (1, 1, 1) if not is_custom else custom_color, is_custom=is_custom, color='#fff' if not is_custom else '#333')\n",
    "\n",
    "        # Label\n",
    "        s += (\n",
    "        f'<div class=\"region-label\" style=\"padding-top: 7px; '\n",
    "        f'font-weight: {\"bold\" if inberyl else \"normal\"}; '\n",
    "        f'color: {\"#555\" if inberyl else \"#999\"}; '\n",
    "        f'background-color: {\"none\" if not is_custom else \"#ffd\"}; '\n",
    "        f'\">L{int(level)} {name} (#{id}, {acronym})</div>\\n')\n",
    "            \n",
    "        c = np.array(custom_color)\n",
    "        assert np.all(c <= 1)\n",
    "        c = tuple(map(int, (c * 255).astype(np.uint8)))\n",
    "            \n",
    "        # Lines.\n",
    "        if is_custom:\n",
    "            s += (\n",
    "            f'<div style=\"margin-left: 20px; margin-top: 5px;\">'\n",
    "                # darkbg\n",
    "                f'<div style=\"width: 150px; padding: 5px; background-color: #fff;\">'\n",
    "                f'<div style=\" height: 6px; background-color: rgb{c};\"></div>'\n",
    "                f'</div>'\n",
    "                # white bg\n",
    "                f'<div style=\"width: 150px; padding: 4px; background-color: #000;\">'\n",
    "                f'<div style=\" height: 6px; background-color: rgb{c};\"></div>'\n",
    "                f'</div>'\n",
    "            f'</div>\\n')\n",
    "\n",
    "        s += (\n",
    "        f'</div>\\n'\n",
    "\n",
    "        f'</summary>\\n')\n",
    "        \n",
    "        last_level = level\n",
    "    s += (\"</details>\" * (level))\n",
    "    return s\n",
    "    \n",
    "\n",
    "s = show_children_colors(area, recursive=True, custom=custom, max_level=7)\n",
    "#display(HTML(s))\n",
    "\n",
    "with open(\"docs/index.html\", \"w\") as f:\n",
    "    f.write(f'''\n",
    "    <html>\n",
    "    <head><title>Brain region colors</title></head>\n",
    "    <script src=\"https://ajax.googleapis.com/ajax/libs/jquery/3.6.0/jquery.min.js\"></script>\n",
    "    <script>\n",
    "    {js}\n",
    "    </script>\n",
    "    <style>\n",
    "    {css}\n",
    "    </style>\n",
    "    <body>\n",
    "    <div>\n",
    "    This is a first attempt at providing a modified color map for the Allen Atlas brain regions, for which many regions have identical colors.\n",
    "    Notes:\n",
    "    <ul>\n",
    "    <li>This list shows all Beryl brain regions and their ancestors.</li>\n",
    "    <li>Click on a region to collapse/extend its descendents.</li>\n",
    "    <li>For each region, two colors are shown: the original Allen Atlas color, and the optionally modified one.</li>\n",
    "    <li>For each region, the name, region id, acronym, tree level are shown.</li>\n",
    "    <li>The name is in bold if the region is a Beryl region.</li>\n",
    "    <li>Regions with a modified color are highlighted in yellow.</li>\n",
    "    <li>A modified color is proposed for a region if all of its siblings have the same color.</li>\n",
    "    <li>A color variant is computed by adding a small random (normal) perturbation to the H, S, V components.</li>\n",
    "    <li>Required improvements: find a smarter algorithm for generating visually distinct color variations.</li>\n",
    "    </ul>\n",
    "    </div>\n",
    "    <div style=\"margin: 20px;\">\n",
    "    <button onclick=\"collapse(2);\">Collapse to L2</button>\n",
    "    <button onclick=\"collapse(3);\">Collapse to L3</button>\n",
    "    <button onclick=\"collapse(4);\">Collapse to L4</button>\n",
    "    <button onclick=\"collapse(5);\">Collapse to L5</button>\n",
    "    <button onclick=\"collapse(6);\">Collapse to L6</button>\n",
    "    <button onclick=\"expand();\">Expand all</button>\n",
    "    </div>\n",
    "    {s}\n",
    "    </body>\n",
    "    </html>\n",
    "    ''')"
   ]
  },
  {
   "cell_type": "code",
   "execution_count": null,
   "id": "3ed187ea-83c5-4d77-9a98-d9d9c52b701d",
   "metadata": {},
   "outputs": [],
   "source": []
  }
 ],
 "metadata": {
  "kernelspec": {
   "display_name": "Python 3",
   "language": "python",
   "name": "python3"
  },
  "language_info": {
   "codemirror_mode": {
    "name": "ipython",
    "version": 3
   },
   "file_extension": ".py",
   "mimetype": "text/x-python",
   "name": "python",
   "nbconvert_exporter": "python",
   "pygments_lexer": "ipython3",
   "version": "3.9.7"
  }
 },
 "nbformat": 4,
 "nbformat_minor": 5
}
